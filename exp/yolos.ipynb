{
 "cells": [
  {
   "cell_type": "code",
   "execution_count": 5,
   "metadata": {},
   "outputs": [
    {
     "name": "stderr",
     "output_type": "stream",
     "text": [
      "Could not find image processor class in the image processor config or the model config. Loading based on pattern matching with the model's feature extractor configuration.\n"
     ]
    },
    {
     "name": "stdout",
     "output_type": "stream",
     "text": [
      "Detected kite with confidence 0.927 at location [9.48, 12.52, 217.03, 218.23]\n",
      "Time: 0.587209939956665\n"
     ]
    }
   ],
   "source": [
    "from transformers import AutoImageProcessor, AutoModelForObjectDetection\n",
    "import torch\n",
    "from PIL import Image\n",
    "import requests\n",
    "from time import time\n",
    "import onnxruntime as ort\n",
    "import onnx\n",
    "import numpy as np\n",
    "import cv2\n",
    "\n",
    "#url = \"http://images.cocodataset.org/val2017/000000039769.jpg\"\n",
    "#image = Image.open(requests.get(url, stream=True).raw)\n",
    "image = Image.open('../i2l-dataset/ball/ball_02.jpg')\n",
    "\n",
    "image_processor = AutoImageProcessor.from_pretrained(\"hustvl/yolos-tiny\")\n",
    "model = AutoModelForObjectDetection.from_pretrained(\"hustvl/yolos-tiny\")\n",
    "\n",
    "t0 = time()\n",
    "inputs = image_processor(images=image, return_tensors=\"pt\")\n",
    "outputs = model(**inputs)\n",
    "\n",
    "# convert outputs (bounding boxes and class logits) to COCO API\n",
    "target_sizes = torch.tensor([image.size[::-1]])\n",
    "TH = 0.5\n",
    "results = image_processor.post_process_object_detection(outputs, threshold=TH, target_sizes=target_sizes)[0]\n",
    "\n",
    "#print('outputs', outputs)\n",
    "#print('results', results)\n",
    "\n",
    "for score, label, box in zip(results[\"scores\"], results[\"labels\"], results[\"boxes\"]):\n",
    "    box = [round(i, 2) for i in box.tolist()]\n",
    "    print(\n",
    "        f\"Detected {model.config.id2label[label.item()]} with confidence \"\n",
    "        f\"{round(score.item(), 3)} at location {box}\"\n",
    "    )\n",
    "\n",
    "print(f'Time: {time()-t0}')"
   ]
  },
  {
   "cell_type": "code",
   "execution_count": null,
   "metadata": {},
   "outputs": [],
   "source": [
    "\n",
    "# ====== ONNX ======\n",
    "OUT = 'yolos.onnx'\n",
    "image = cv2.imread('test-image.jpg')\n",
    "orig = image.copy()\n",
    "\n",
    "# convert the image from BGR to RGB channel ordering and change the\n",
    "# image from channels last to channels first ordering\n",
    "image = cv2.cvtColor(image, cv2.COLOR_BGR2RGB)\n",
    "image = image.transpose((2, 0, 1))\n",
    "# add the batch dimension, scale the raw pixel intensities to the\n",
    "# range [0, 1], and convert the image to a floating point tensor\n",
    "image = np.expand_dims(image, axis=0)\n",
    "image = image / 255.0\n",
    "image = torch.FloatTensor(image)\n",
    "# send the input to the device and pass the it through the network to\n",
    "# get the detections and predictions\n",
    "image = image.to('cpu')\n",
    "\n",
    "x = image.cpu()\n",
    "\n",
    "t0 = time()\n",
    "with torch.no_grad():\n",
    "    model.cpu()\n",
    "    model.eval()\n",
    "    torch.onnx.export(model,\n",
    "                      x,\n",
    "                      OUT,\n",
    "                      input_names=['image'],\n",
    "                      output_names=['boxes', 'labels', 'scores'],\n",
    "                      do_constant_folding=True,\n",
    "                      opset_version=12,\n",
    "                      export_params=True)\n",
    "    \n",
    "print(f'Time of ONNX conversion: {time()-t0}')\n"
   ]
  },
  {
   "cell_type": "code",
   "execution_count": null,
   "metadata": {},
   "outputs": [],
   "source": [
    "\n",
    "# ===== predict with ONNX =====\n",
    "\n",
    "sample = image\n",
    "\n",
    "onnx_model = onnx.load(OUT)\n",
    "onnx.checker.check_model(onnx_model)\n",
    "\n",
    "ort_session = ort.InferenceSession(OUT)\n",
    "\n",
    "input_name = ort_session.get_inputs()[0].name\n",
    "label_name = ort_session.get_outputs()[1].name\n",
    "\n",
    "print([inp.name for inp in ort_session.get_inputs()])\n",
    "print([out.name for out in ort_session.get_outputs()])\n",
    "\n",
    "t0 = time()\n",
    "outputs = ort_session.run(\n",
    "    ['boxes', 'labels', 'scores'],\n",
    "    {input_name: np.array(sample)},\n",
    ")\n",
    "\n",
    "\n",
    "print(f'ONNX: {time()-t0}')\n",
    "print(outputs)\n",
    "\n",
    "t0 = time()\n",
    "y = model(sample)\n",
    "print(f'\\n\\n---\\nNormally: {time()-t0}')\n",
    "print(y)"
   ]
  }
 ],
 "metadata": {
  "kernelspec": {
   "display_name": "trans",
   "language": "python",
   "name": "python3"
  },
  "language_info": {
   "codemirror_mode": {
    "name": "ipython",
    "version": 3
   },
   "file_extension": ".py",
   "mimetype": "text/x-python",
   "name": "python",
   "nbconvert_exporter": "python",
   "pygments_lexer": "ipython3",
   "version": "3.9.16"
  },
  "orig_nbformat": 4
 },
 "nbformat": 4,
 "nbformat_minor": 2
}
